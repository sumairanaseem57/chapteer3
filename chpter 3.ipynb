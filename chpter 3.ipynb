{
 "cells": [
  {
   "cell_type": "markdown",
   "id": "0a0765de",
   "metadata": {},
   "source": [
    "## chapter no 3\n"
   ]
  },
  {
   "cell_type": "markdown",
   "id": "a6f0f6bf",
   "metadata": {},
   "source": [
    "# Example 1"
   ]
  },
  {
   "cell_type": "code",
   "execution_count": 1,
   "id": "850a360c",
   "metadata": {},
   "outputs": [
    {
     "name": "stdout",
     "output_type": "stream",
     "text": [
      "Smaller\n",
      "Finis\n"
     ]
    }
   ],
   "source": [
    "x = 5\n",
    "if x < 10:\n",
    "    print('Smaller')\n",
    "if x > 20:\n",
    "    print('Bigger')\n",
    "print('Finis')"
   ]
  },
  {
   "cell_type": "markdown",
   "id": "71261541",
   "metadata": {},
   "source": [
    "# Example2"
   ]
  },
  {
   "cell_type": "markdown",
   "id": "e216574f",
   "metadata": {},
   "source": [
    "x = 5\n",
    "if x == 5 : \n",
    "    print('Equals 5')\n",
    "if x > 4 : \n",
    "    print('Greater than 4')\n",
    "if x >= 5 :\n",
    "    print('Greater than or Equals 5')\n",
    "if x < 6 : \n",
    "    print('Less than 6') \n",
    "if x <= 5 :\n",
    "    print('Less than or Equals 5')\n",
    "if x != 6 :\n",
    "    print('Not equal 6')"
   ]
  },
  {
   "cell_type": "markdown",
   "id": "2843936a",
   "metadata": {},
   "source": [
    "# Example 3"
   ]
  },
  {
   "cell_type": "code",
   "execution_count": 4,
   "id": "8aa1dd8c",
   "metadata": {},
   "outputs": [
    {
     "name": "stdout",
     "output_type": "stream",
     "text": [
      "Before 5\n",
      "Is 5\n",
      "Is Still 5\n",
      "Third 5\n",
      "Afterwards 5\n",
      "Before 6\n",
      "Afterwards 6\n"
     ]
    }
   ],
   "source": [
    "x = 5\n",
    "print('Before 5')\n",
    "if x == 5 :\n",
    "    print('Is 5')\n",
    "    print('Is Still 5')\n",
    "    print('Third 5')\n",
    "print('Afterwards 5')\n",
    "print('Before 6')\n",
    "if x == 6 :\n",
    "    print('Is 6')\n",
    "    print('Is Still 6')\n",
    "    print('Third 6')\n",
    "print('Afterwards 6')"
   ]
  },
  {
   "cell_type": "markdown",
   "id": "5c5b9661",
   "metadata": {},
   "source": [
    "# Example 4"
   ]
  },
  {
   "cell_type": "code",
   "execution_count": 7,
   "id": "dd9992b0",
   "metadata": {},
   "outputs": [
    {
     "name": "stdout",
     "output_type": "stream",
     "text": [
      "More than one\n",
      "Less than 100\n",
      "All done\n"
     ]
    }
   ],
   "source": [
    "x = 42\n",
    "if x > 1 :\n",
    "    print('More than one')\n",
    "if x < 100 : \n",
    "    print('Less than 100') \n",
    "print('All done')"
   ]
  },
  {
   "cell_type": "code",
   "execution_count": 8,
   "id": "33799f1e",
   "metadata": {},
   "outputs": [
    {
     "name": "stdout",
     "output_type": "stream",
     "text": [
      "Huge\n"
     ]
    }
   ],
   "source": [
    "if x < 2 :\n",
    "    print('Small')\n",
    "elif x < 10 :\n",
    "    print('Medium')\n",
    "elif x < 20 : \n",
    "    print('Big')\n",
    "elif x < 40 : \n",
    "    print('Large')\n",
    "elif x < 100:\n",
    "    print('Huge')\n",
    "else :\n",
    "    print('Ginormous')"
   ]
  },
  {
   "cell_type": "code",
   "execution_count": 9,
   "id": "02d2e1c8",
   "metadata": {},
   "outputs": [
    {
     "name": "stdout",
     "output_type": "stream",
     "text": [
      "First -1\n",
      "Second 123\n"
     ]
    }
   ],
   "source": [
    "astr = 'Hello Bob'\n",
    "try:\n",
    "    istr = int(astr)\n",
    "except:\n",
    "    istr = -1\n",
    "print('First', istr)\n",
    "astr = '123'\n",
    "try:\n",
    "    istr = int(astr)\n",
    "except:\n",
    "    istr = -1\n",
    "print('Second', istr)"
   ]
  },
  {
   "cell_type": "markdown",
   "id": "8c32e2d8",
   "metadata": {},
   "source": [
    "##EXERCISE"
   ]
  },
  {
   "cell_type": "code",
   "execution_count": 24,
   "id": "1994e9db",
   "metadata": {},
   "outputs": [
    {
     "name": "stdout",
     "output_type": "stream",
     "text": [
      "The employee's pay is: $475.0\n"
     ]
    }
   ],
   "source": [
    "def calculate_pay(hours_worked, hourly_rate):\n",
    "    if hours_worked <= 40:\n",
    "        pay = hours_worked * hourly_rate\n",
    "    else:\n",
    "        regular_hours = 40\n",
    "        overtime_hours = hours_worked - regular_hours\n",
    "        pay = (regular_hours * hourly_rate) + (overtime_hours * 1.5 * hourly_rate)\n",
    "    return pay\n",
    "\n",
    "# Input values (example)\n",
    "hours_worked = 45\n",
    "hourly_rate = 10.0\n",
    "\n",
    "# Calculate and print the employee's pay\n",
    "employee_pay = calculate_pay(hours_worked, hourly_rate)\n",
    "print(f\"The employee's pay is: ${employee_pay}\")"
   ]
  },
  {
   "cell_type": "code",
   "execution_count": null,
   "id": "74cce495",
   "metadata": {},
   "outputs": [],
   "source": []
  }
 ],
 "metadata": {
  "kernelspec": {
   "display_name": "Python 3 (ipykernel)",
   "language": "python",
   "name": "python3"
  },
  "language_info": {
   "codemirror_mode": {
    "name": "ipython",
    "version": 3
   },
   "file_extension": ".py",
   "mimetype": "text/x-python",
   "name": "python",
   "nbconvert_exporter": "python",
   "pygments_lexer": "ipython3",
   "version": "3.9.13"
  }
 },
 "nbformat": 4,
 "nbformat_minor": 5
}
